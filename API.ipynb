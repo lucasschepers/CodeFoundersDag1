{
 "cells": [
  {
   "cell_type": "code",
   "execution_count": 2,
   "id": "d8b395d2-2ea0-4bad-9dd3-f71309fcc86d",
   "metadata": {},
   "outputs": [
    {
     "name": "stdout",
     "output_type": "stream",
     "text": [
      "<class 'requests.models.Response'>\n",
      "<class 'dict'>\n"
     ]
    }
   ],
   "source": [
    "import requests\n",
    "\n",
    "paginaresults = requests.get('https://catfact.ninja/facts')\n",
    "print(type(paginaresults))\n",
    "\n",
    "feitjes = paginaresults.json()\n",
    "print(type(feitjes))"
   ]
  },
  {
   "cell_type": "code",
   "execution_count": 3,
   "id": "62692697-416c-4593-a104-3603dc27b2e0",
   "metadata": {},
   "outputs": [
    {
     "name": "stdout",
     "output_type": "stream",
     "text": [
      "<class 'list'>\n"
     ]
    }
   ],
   "source": [
    "dat = feitjes[\"data\"]\n",
    "print(type(dat))"
   ]
  },
  {
   "cell_type": "code",
   "execution_count": 4,
   "id": "8a0b37ee-215c-4b17-87de-3f763d403057",
   "metadata": {},
   "outputs": [
    {
     "name": "stdout",
     "output_type": "stream",
     "text": [
      "Unlike dogs, cats do not have a sweet tooth. Scientists believe this is due to a mutation in a key taste receptor.\n"
     ]
    }
   ],
   "source": [
    "eerstefeitje = feitjes[\"data\"][0][\"fact\"]\n",
    "print(eerstefeitje)"
   ]
  },
  {
   "cell_type": "code",
   "execution_count": 5,
   "id": "c514c344-3193-49aa-85e7-8aef8ada96ac",
   "metadata": {},
   "outputs": [
    {
     "data": {
      "text/plain": [
       "{'fact': 'Unlike dogs, cats do not have a sweet tooth. Scientists believe this is due to a mutation in a key taste receptor.',\n",
       " 'length': 114}"
      ]
     },
     "execution_count": 5,
     "metadata": {},
     "output_type": "execute_result"
    }
   ],
   "source": [
    "feitjes[\"data\"][0]"
   ]
  },
  {
   "cell_type": "code",
   "execution_count": null,
   "id": "bdfccb04-1f82-4847-9649-b2bb9c72525f",
   "metadata": {},
   "outputs": [],
   "source": []
  }
 ],
 "metadata": {
  "kernelspec": {
   "display_name": "Python 3 (ipykernel)",
   "language": "python",
   "name": "python3"
  },
  "language_info": {
   "codemirror_mode": {
    "name": "ipython",
    "version": 3
   },
   "file_extension": ".py",
   "mimetype": "text/x-python",
   "name": "python",
   "nbconvert_exporter": "python",
   "pygments_lexer": "ipython3",
   "version": "3.11.9"
  }
 },
 "nbformat": 4,
 "nbformat_minor": 5
}
